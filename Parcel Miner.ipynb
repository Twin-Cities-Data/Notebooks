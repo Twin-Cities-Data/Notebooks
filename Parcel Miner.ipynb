{
 "cells": [
  {
   "cell_type": "markdown",
   "metadata": {
    "application/vnd.databricks.v1+cell": {
     "cellMetadata": {
      "byteLimit": 2048000,
      "rowLimit": 10000
     },
     "inputWidgets": {},
     "nuid": "1d2d7071-76cf-44ed-b0ac-3a88f94a1f6a",
     "showTitle": false,
     "tableResultSettingsMap": {},
     "title": ""
    }
   },
   "source": [
    "# ⛏️ Minneapolis Parcel Data Mining \uD83D\uDC69\uD83C\uDFFB‍\uD83D\uDCBB\n",
    "#### Every year, the Minneapolis Assessing Department works to revalue the building and land of every property.\n",
    "#### To help them do that, they consider many factors such as year built, building use, building features, and recent sales.\n",
    "\n",
    "#### By analyzing this data, we unlock insights such as neighborhood amenity mix, the age of our housing stock, as well as what drives property value.\n",
    "#### Understanding these issues better can help inform discussion about zoning, public health, and access to housing."
   ]
  },
  {
   "cell_type": "code",
   "execution_count": 0,
   "metadata": {
    "application/vnd.databricks.v1+cell": {
     "cellMetadata": {
      "byteLimit": 2048000,
      "rowLimit": 10000
     },
     "collapsed": true,
     "inputWidgets": {},
     "nuid": "8d28f60e-b07c-4ce7-8e38-43393611eb88",
     "showTitle": false,
     "tableResultSettingsMap": {},
     "title": ""
    }
   },
   "outputs": [],
   "source": [
    "html=\"\"\"\n",
    "<iframe width=\"560\" height=\"315\"\n",
    "    src=\"https://www.youtube.com/embed/P4uSTusFsjI?rel=0&controls=1\"\n",
    "    frameborder=\"0\"\n",
    "    allow=\"autoplay; encrypted-media\"\n",
    "    allowfullscreen>\n",
    "</iframe>\n",
    "\"\"\""
   ]
  },
  {
   "cell_type": "markdown",
   "metadata": {
    "application/vnd.databricks.v1+cell": {
     "cellMetadata": {
      "byteLimit": 2048000,
      "rowLimit": 10000
     },
     "inputWidgets": {},
     "nuid": "4ca0adff-183e-46b5-999a-d3c145406f76",
     "showTitle": false,
     "tableResultSettingsMap": {},
     "title": ""
    }
   },
   "source": [
    "# Here is a brief overview of the assessing process from the City of Minneapolis"
   ]
  },
  {
   "cell_type": "markdown",
   "metadata": {
    "application/vnd.databricks.v1+cell": {
     "cellMetadata": {
      "byteLimit": 2048000,
      "rowLimit": 10000
     },
     "inputWidgets": {},
     "nuid": "f2fe8792-5dbd-41bc-9baa-57036a3d03ff",
     "showTitle": false,
     "tableResultSettingsMap": {},
     "title": ""
    }
   },
   "source": []
  },
  {
   "cell_type": "markdown",
   "metadata": {
    "application/vnd.databricks.v1+cell": {
     "cellMetadata": {
      "byteLimit": 2048000,
      "rowLimit": 10000
     },
     "inputWidgets": {},
     "nuid": "0f18fd37-7e4a-4a20-bc5e-965ddec65049",
     "showTitle": false,
     "tableResultSettingsMap": {},
     "title": ""
    }
   },
   "source": [
    "**Note:** Embedded video only works inside Databricks.  \n",
    "Click [here](https://www.youtube.com/watch?v=P4uSTusFsjI) to watch on YouTube.\n",
    "<br>Or download this notebook and upload into your databricks free account!\n"
   ]
  },
  {
   "cell_type": "code",
   "execution_count": 0,
   "metadata": {
    "application/vnd.databricks.v1+cell": {
     "cellMetadata": {
      "byteLimit": 2048000,
      "rowLimit": 10000
     },
     "inputWidgets": {},
     "nuid": "58ade763-faac-4c49-abcb-71a5cf71ae67",
     "showTitle": false,
     "tableResultSettingsMap": {},
     "title": ""
    }
   },
   "outputs": [
    {
     "output_type": "display_data",
     "data": {
      "text/html": [
       "\n",
       "<iframe width=\"560\" height=\"315\"\n",
       "    src=\"https://www.youtube.com/embed/P4uSTusFsjI?rel=0&controls=1\"\n",
       "    frameborder=\"0\"\n",
       "    allow=\"autoplay; encrypted-media\"\n",
       "    allowfullscreen>\n",
       "</iframe>\n"
      ]
     },
     "metadata": {},
     "output_type": "display_data"
    }
   ],
   "source": [
    "displayHTML(html)\n"
   ]
  },
  {
   "cell_type": "markdown",
   "metadata": {
    "application/vnd.databricks.v1+cell": {
     "cellMetadata": {
      "byteLimit": 2048000,
      "rowLimit": 10000
     },
     "inputWidgets": {},
     "nuid": "c97fdce0-933c-42f3-b018-e58fa1308adf",
     "showTitle": false,
     "tableResultSettingsMap": {},
     "title": ""
    }
   },
   "source": [
    "### Ingest Data"
   ]
  },
  {
   "cell_type": "code",
   "execution_count": 0,
   "metadata": {
    "application/vnd.databricks.v1+cell": {
     "cellMetadata": {
      "byteLimit": 2048000,
      "rowLimit": 10000
     },
     "inputWidgets": {},
     "nuid": "e7eec179-e373-4b33-b167-fb8b5b963da3",
     "showTitle": false,
     "tableResultSettingsMap": {},
     "title": ""
    }
   },
   "outputs": [],
   "source": [
    "import pandas as pd\n",
    "import numpy as np\n",
    "url='https://raw.githubusercontent.com/Twin-Cities-Data/Datasets/refs/heads/main/Assessing_Department_Parcel_Data_2024_Trim.csv'\n",
    "df=pd.read_csv(url)"
   ]
  },
  {
   "cell_type": "markdown",
   "metadata": {
    "application/vnd.databricks.v1+cell": {
     "cellMetadata": {
      "byteLimit": 2048000,
      "rowLimit": 10000
     },
     "inputWidgets": {},
     "nuid": "b744b6ca-63c7-45b4-9915-0fdc2a202062",
     "showTitle": false,
     "tableResultSettingsMap": {},
     "title": ""
    }
   },
   "source": [
    "### Let's check out this data"
   ]
  },
  {
   "cell_type": "code",
   "execution_count": 0,
   "metadata": {
    "application/vnd.databricks.v1+cell": {
     "cellMetadata": {
      "byteLimit": 2048000,
      "rowLimit": 10000
     },
     "inputWidgets": {},
     "nuid": "fd354665-5b04-4ed0-8aec-3f89248d9089",
     "showTitle": false,
     "tableResultSettingsMap": {},
     "title": ""
    }
   },
   "outputs": [
    {
     "output_type": "execute_result",
     "data": {
      "text/html": [
       "<div>\n",
       "<style scoped>\n",
       "    .dataframe tbody tr th:only-of-type {\n",
       "        vertical-align: middle;\n",
       "    }\n",
       "\n",
       "    .dataframe tbody tr th {\n",
       "        vertical-align: top;\n",
       "    }\n",
       "\n",
       "    .dataframe thead th {\n",
       "        text-align: right;\n",
       "    }\n",
       "</style>\n",
       "<table border=\"1\" class=\"dataframe\">\n",
       "  <thead>\n",
       "    <tr style=\"text-align: right;\">\n",
       "      <th></th>\n",
       "      <th>PIN</th>\n",
       "      <th>HOUSE_NO</th>\n",
       "      <th>PLAT_NO</th>\n",
       "      <th>NEIGHBORHOOD</th>\n",
       "      <th>COMMUNITY</th>\n",
       "      <th>WARD</th>\n",
       "      <th>ZONING</th>\n",
       "      <th>LANDUSE</th>\n",
       "      <th>PARCEL_AREA_SQFT</th>\n",
       "      <th>X</th>\n",
       "      <th>Y</th>\n",
       "      <th>PRIMARY_PROP_TYPE</th>\n",
       "      <th>LANDVALUE</th>\n",
       "      <th>BLDGVALUE</th>\n",
       "      <th>TOTALVALUE</th>\n",
       "      <th>NUM_BLDGS</th>\n",
       "      <th>BUILDINGUSE</th>\n",
       "      <th>YEARBUILT</th>\n",
       "      <th>BELOWGROUNDAREA</th>\n",
       "      <th>ABOVEGROUNDAREA</th>\n",
       "      <th>TOTAL_UNITS</th>\n",
       "    </tr>\n",
       "  </thead>\n",
       "  <tbody>\n",
       "    <tr>\n",
       "      <th>0</th>\n",
       "      <td>p0102824110112</td>\n",
       "      <td>2815</td>\n",
       "      <td>19720</td>\n",
       "      <td>LONGFELLOW</td>\n",
       "      <td>LONGFELLOW</td>\n",
       "      <td>2.0</td>\n",
       "      <td>CM3</td>\n",
       "      <td>VACANT</td>\n",
       "      <td>6988.0</td>\n",
       "      <td>539527.7245</td>\n",
       "      <td>157256.5448</td>\n",
       "      <td>VACANT LAND - COMMERCIAL</td>\n",
       "      <td>125800</td>\n",
       "      <td>0</td>\n",
       "      <td>125800</td>\n",
       "      <td>0</td>\n",
       "      <td>NaN</td>\n",
       "      <td>NaN</td>\n",
       "      <td>0</td>\n",
       "      <td>0</td>\n",
       "      <td>0.0</td>\n",
       "    </tr>\n",
       "    <tr>\n",
       "      <th>1</th>\n",
       "      <td>p0102824110113</td>\n",
       "      <td>3016</td>\n",
       "      <td>19720</td>\n",
       "      <td>LONGFELLOW</td>\n",
       "      <td>LONGFELLOW</td>\n",
       "      <td>2.0</td>\n",
       "      <td>CM3</td>\n",
       "      <td>MULTI-FAMILY APARTMENT</td>\n",
       "      <td>15700.0</td>\n",
       "      <td>539581.9071</td>\n",
       "      <td>157137.0452</td>\n",
       "      <td>APARTMENT</td>\n",
       "      <td>235500</td>\n",
       "      <td>2360500</td>\n",
       "      <td>2596000</td>\n",
       "      <td>1</td>\n",
       "      <td>APARTMENT 6+ UNIT</td>\n",
       "      <td>1961.0</td>\n",
       "      <td>5133</td>\n",
       "      <td>10266</td>\n",
       "      <td>26.0</td>\n",
       "    </tr>\n",
       "    <tr>\n",
       "      <th>2</th>\n",
       "      <td>p0102824110114</td>\n",
       "      <td>3020</td>\n",
       "      <td>19720</td>\n",
       "      <td>LONGFELLOW</td>\n",
       "      <td>LONGFELLOW</td>\n",
       "      <td>2.0</td>\n",
       "      <td>CM3</td>\n",
       "      <td>1 UNIT RESIDENTIAL - SINGLE FAMILY HOUSE</td>\n",
       "      <td>7841.0</td>\n",
       "      <td>539581.7985</td>\n",
       "      <td>157062.0552</td>\n",
       "      <td>RESIDENTIAL</td>\n",
       "      <td>104000</td>\n",
       "      <td>221000</td>\n",
       "      <td>325000</td>\n",
       "      <td>1</td>\n",
       "      <td>SINGLE FAMILY HOUSE</td>\n",
       "      <td>1910.0</td>\n",
       "      <td>795</td>\n",
       "      <td>1609</td>\n",
       "      <td>1.0</td>\n",
       "    </tr>\n",
       "    <tr>\n",
       "      <th>3</th>\n",
       "      <td>p0102824110115</td>\n",
       "      <td>3024</td>\n",
       "      <td>19720</td>\n",
       "      <td>LONGFELLOW</td>\n",
       "      <td>LONGFELLOW</td>\n",
       "      <td>2.0</td>\n",
       "      <td>CM3</td>\n",
       "      <td>1 UNIT RESIDENTIAL - SINGLE FAMILY HOUSE</td>\n",
       "      <td>8472.0</td>\n",
       "      <td>539581.7276</td>\n",
       "      <td>157012.0545</td>\n",
       "      <td>RESIDENTIAL</td>\n",
       "      <td>107000</td>\n",
       "      <td>128000</td>\n",
       "      <td>235000</td>\n",
       "      <td>1</td>\n",
       "      <td>SINGLE FAMILY HOUSE</td>\n",
       "      <td>1910.0</td>\n",
       "      <td>755</td>\n",
       "      <td>1267</td>\n",
       "      <td>1.0</td>\n",
       "    </tr>\n",
       "    <tr>\n",
       "      <th>4</th>\n",
       "      <td>p0102824110122</td>\n",
       "      <td>2727</td>\n",
       "      <td>19720</td>\n",
       "      <td>LONGFELLOW</td>\n",
       "      <td>LONGFELLOW</td>\n",
       "      <td>2.0</td>\n",
       "      <td>CM3</td>\n",
       "      <td>INSTITUTIONS:SCHL,COLLEGE,CHURCH OR HOSPITAL</td>\n",
       "      <td>43340.0</td>\n",
       "      <td>539189.2670</td>\n",
       "      <td>157216.6756</td>\n",
       "      <td>COMMERCIAL</td>\n",
       "      <td>0</td>\n",
       "      <td>0</td>\n",
       "      <td>0</td>\n",
       "      <td>1</td>\n",
       "      <td>LIBRARY</td>\n",
       "      <td>1976.0</td>\n",
       "      <td>1836</td>\n",
       "      <td>15780</td>\n",
       "      <td>0.0</td>\n",
       "    </tr>\n",
       "  </tbody>\n",
       "</table>\n",
       "</div>"
      ],
      "text/plain": [
       "              PIN HOUSE_NO  ...  ABOVEGROUNDAREA TOTAL_UNITS\n",
       "0  p0102824110112     2815  ...                0         0.0\n",
       "1  p0102824110113     3016  ...            10266        26.0\n",
       "2  p0102824110114     3020  ...             1609         1.0\n",
       "3  p0102824110115     3024  ...             1267         1.0\n",
       "4  p0102824110122     2727  ...            15780         0.0\n",
       "\n",
       "[5 rows x 21 columns]"
      ]
     },
     "execution_count": 3,
     "metadata": {},
     "output_type": "execute_result"
    }
   ],
   "source": [
    "df.head()"
   ]
  },
  {
   "cell_type": "code",
   "execution_count": 0,
   "metadata": {
    "application/vnd.databricks.v1+cell": {
     "cellMetadata": {
      "byteLimit": 2048000,
      "rowLimit": 10000
     },
     "inputWidgets": {},
     "nuid": "346cf891-0eff-484d-a020-3cda2f33abcd",
     "showTitle": false,
     "tableResultSettingsMap": {},
     "title": ""
    }
   },
   "outputs": [],
   "source": [
    "df=df.drop_duplicates(['X','Y']).reset_index()"
   ]
  },
  {
   "cell_type": "markdown",
   "metadata": {
    "application/vnd.databricks.v1+cell": {
     "cellMetadata": {
      "byteLimit": 2048000,
      "rowLimit": 10000
     },
     "inputWidgets": {},
     "nuid": "1483b799-3cce-461b-9f0b-22c8f5be0a05",
     "showTitle": false,
     "tableResultSettingsMap": {},
     "title": ""
    }
   },
   "source": [
    "# Some Initial Questions\n",
    "- Can we see trends in building?\n",
    "- What types of property account for the most \"built environment\" space in Minneapolis?\n",
    "- How does neighborhood impact \"built environment\" distribution?\n",
    "- How do neighboring buildings impact the value of parcels?"
   ]
  },
  {
   "cell_type": "code",
   "execution_count": 0,
   "metadata": {
    "application/vnd.databricks.v1+cell": {
     "cellMetadata": {
      "byteLimit": 2048000,
      "rowLimit": 10000
     },
     "collapsed": true,
     "inputWidgets": {},
     "nuid": "dd1e7c3c-8054-472f-a36b-fe028dee1407",
     "showTitle": false,
     "tableResultSettingsMap": {},
     "title": ""
    }
   },
   "outputs": [
    {
     "output_type": "display_data",
     "data": {
      "image/png": "[encoded data removed]",
      "text/plain": [
       "<Figure size 800x400 with 1 Axes>"
      ]
     },
     "metadata": {},
     "output_type": "display_data"
    }
   ],
   "source": [
    "import matplotlib.pyplot as plt\n",
    "\n",
    "fig, ax = plt.subplots(figsize=(8, 4))\n",
    "summary = (\n",
    "    round(df.query(\"YEARBUILT>1700\")[\"YEARBUILT\"].astype(int), -1)\n",
    "    .value_counts()\n",
    "    .sort_index()\n",
    ")\n",
    "bars = summary.plot(\n",
    "    kind=\"bar\", edgecolor=\"black\", grid=True, zorder=2, ax=ax, color=\"#4B8BBE\"\n",
    ")\n",
    "ax.set_xlabel(\"\\nYear Built\", fontsize=13)\n",
    "ax.set_ylabel(\"Number of Buildings\", fontsize=13)\n",
    "ax.set_title(\n",
    "    \"Decade Of Construction For Minneapolis Buildings\\nSource: Minneapolis Open Data Assessors Parcel Data 2024\",\n",
    "    fontsize=15,\n",
    "    pad=20,\n",
    ")\n",
    "ax.spines[\"top\"].set_visible(False)\n",
    "ax.spines[\"right\"].set_visible(False)\n",
    "ax.yaxis.grid(True, linestyle=\"--\", linewidth=0.7, alpha=0.7)\n",
    "ax.xaxis.grid(False)\n",
    "plt.xticks(rotation=45, ha=\"right\")\n",
    "plt.tight_layout()\n",
    "plt.show()"
   ]
  },
  {
   "cell_type": "markdown",
   "metadata": {
    "application/vnd.databricks.v1+cell": {
     "cellMetadata": {
      "byteLimit": 2048000,
      "rowLimit": 10000
     },
     "inputWidgets": {},
     "nuid": "97d611e5-934e-4bf1-b1e3-eddecc10920c",
     "showTitle": false,
     "tableResultSettingsMap": {},
     "title": ""
    }
   },
   "source": [
    "\n",
    "#####<br>That's a cool chart and pandas is very powerful. So why use Databricks notebooks, or PySpark? What does that buy us?\n",
    "\n",
    "#####Consider a deceptively complex question: \"How do neighboring buildings impact parcel values?\" To answer this question, we need to perform nearest neighbor search. The simplest way to do this is by computing pairwise distance for Minneapolis's 133k properties.\n",
    "\n",
    "#####That operation creates a grid of 133k x 133k values, each with 8 bytes—almost 40GB of data, more than we can fit into RAM."
   ]
  },
  {
   "cell_type": "code",
   "execution_count": 0,
   "metadata": {
    "application/vnd.databricks.v1+cell": {
     "cellMetadata": {
      "byteLimit": 2048000,
      "rowLimit": 10000
     },
     "inputWidgets": {},
     "nuid": "eb1a51e4-807f-4df0-bbe2-356a3e528133",
     "showTitle": false,
     "tableResultSettingsMap": {},
     "title": ""
    }
   },
   "outputs": [
    {
     "output_type": "display_data",
     "data": {
      "text/plain": [
       "\u001B[0;31m---------------------------------------------------------------------------\u001B[0m\n",
       "\u001B[0;31mThe Python process exited with exit code 137 (SIGKILL: Killed). This may have been caused by an OOM error. Check your command's memory usage.\u001B[0m\n",
       "\u001B[0;31m\u001B[0m\n",
       "\u001B[0;31m\u001B[0m\n",
       "\u001B[0;31m\u001B[0m\n",
       "\u001B[0;31mThe last 10 KB of the process's stderr and stdout can be found below. See driver logs for full logs.\u001B[0m\n",
       "\u001B[0;31m---------------------------------------------------------------------------\u001B[0m\n",
       "\u001B[0;31mLast messages on stderr:\u001B[0m\n",
       "\u001B[0;31mMon Jul 28 11:24:42 2025 Connection to spark from PID  2479\u001B[0m\n",
       "\u001B[0;31mMon Jul 28 11:24:42 2025 Initialized gateway on port 40647\u001B[0m\n",
       "\u001B[0;31mMon Jul 28 11:24:42 2025 Connected to spark.\u001B[0m\n",
       "\u001B[0;31m---------------------------------------------------------------------------\u001B[0m\n",
       "\u001B[0;31mLast messages on stdout:\u001B[0m\n",
       "\u001B[0;31mNOTE: When using the `ipython kernel` entry point, Ctrl-C will not work.\u001B[0m\n",
       "\u001B[0;31m\u001B[0m\n",
       "\u001B[0;31mTo exit, you will have to explicitly quit this process, by either sending\u001B[0m\n",
       "\u001B[0;31m\"quit\" from a client, or using Ctrl-\\ in UNIX-like environments.\u001B[0m\n",
       "\u001B[0;31m\u001B[0m\n",
       "\u001B[0;31mTo read more about this, see https://github.com/ipython/ipython/issues/2049\u001B[0m\n",
       "\u001B[0;31m\u001B[0m\n",
       "\u001B[0;31m\u001B[0m\n",
       "\u001B[0;31mTo connect another client to this kernel, use:\u001B[0m\n",
       "\u001B[0;31m    --existing /databricks/kernel-connections/75ab2c111759f58069bd300daf0930d0d5af4fd849030f8d8abf023640f47cff.json\u001B[0m"
      ]
     },
     "metadata": {
      "application/vnd.databricks.v1+output": {
       "arguments": {},
       "data": "\u001B[0;31m---------------------------------------------------------------------------\u001B[0m\n\u001B[0;31mThe Python process exited with exit code 137 (SIGKILL: Killed). This may have been caused by an OOM error. Check your command's memory usage.\u001B[0m\n\u001B[0;31m\u001B[0m\n\u001B[0;31m\u001B[0m\n\u001B[0;31m\u001B[0m\n\u001B[0;31mThe last 10 KB of the process's stderr and stdout can be found below. See driver logs for full logs.\u001B[0m\n\u001B[0;31m---------------------------------------------------------------------------\u001B[0m\n\u001B[0;31mLast messages on stderr:\u001B[0m\n\u001B[0;31mMon Jul 28 11:24:42 2025 Connection to spark from PID  2479\u001B[0m\n\u001B[0;31mMon Jul 28 11:24:42 2025 Initialized gateway on port 40647\u001B[0m\n\u001B[0;31mMon Jul 28 11:24:42 2025 Connected to spark.\u001B[0m\n\u001B[0;31m---------------------------------------------------------------------------\u001B[0m\n\u001B[0;31mLast messages on stdout:\u001B[0m\n\u001B[0;31mNOTE: When using the `ipython kernel` entry point, Ctrl-C will not work.\u001B[0m\n\u001B[0;31m\u001B[0m\n\u001B[0;31mTo exit, you will have to explicitly quit this process, by either sending\u001B[0m\n\u001B[0;31m\"quit\" from a client, or using Ctrl-\\ in UNIX-like environments.\u001B[0m\n\u001B[0;31m\u001B[0m\n\u001B[0;31mTo read more about this, see https://github.com/ipython/ipython/issues/2049\u001B[0m\n\u001B[0;31m\u001B[0m\n\u001B[0;31m\u001B[0m\n\u001B[0;31mTo connect another client to this kernel, use:\u001B[0m\n\u001B[0;31m    --existing /databricks/kernel-connections/75ab2c111759f58069bd300daf0930d0d5af4fd849030f8d8abf023640f47cff.json\u001B[0m",
       "errorSummary": "<span class='ansi-red-fg'>Fatal error</span>: The Python kernel is unresponsive.",
       "errorTraceType": "ansi",
       "metadata": {},
       "type": "ipynbError"
      }
     },
     "output_type": "display_data"
    }
   ],
   "source": [
    "from scipy.spatial.distance import pdist, squareform\n",
    "import pandas as pd\n",
    "#Convert df to numpy for distance matric function\n",
    "coords = df[['X', 'Y']].dropna().to_numpy()\n",
    "#pdist gets matrix\n",
    "dist_matrix = pdist(coords, metric='euclidean')\n"
   ]
  },
  {
   "cell_type": "markdown",
   "metadata": {
    "application/vnd.databricks.v1+cell": {
     "cellMetadata": {
      "byteLimit": 2048000,
      "rowLimit": 10000
     },
     "inputWidgets": {},
     "nuid": "881bdd5a-545f-4b76-b129-ac711406359d",
     "showTitle": false,
     "tableResultSettingsMap": {},
     "title": ""
    }
   },
   "source": [
    "\n",
    "#####<br>And we have successfully crashed Python! But fret not. We are using Databricks, so we can easily benefit from Spark."
   ]
  },
  {
   "cell_type": "code",
   "execution_count": 0,
   "metadata": {
    "application/vnd.databricks.v1+cell": {
     "cellMetadata": {
      "byteLimit": 2048000,
      "rowLimit": 10000
     },
     "inputWidgets": {},
     "nuid": "e14f380d-b127-462f-915b-78a642251afe",
     "showTitle": false,
     "tableResultSettingsMap": {},
     "title": ""
    }
   },
   "outputs": [],
   "source": [
    "from pyspark.sql import functions as F"
   ]
  },
  {
   "cell_type": "code",
   "execution_count": 0,
   "metadata": {
    "application/vnd.databricks.v1+cell": {
     "cellMetadata": {
      "byteLimit": 2048000,
      "rowLimit": 10000
     },
     "inputWidgets": {},
     "nuid": "7dbf6579-f86a-405e-9062-9b6aa3fe1f2d",
     "showTitle": false,
     "tableResultSettingsMap": {},
     "title": ""
    }
   },
   "outputs": [],
   "source": [
    "# Turn pandas DF to spark DF\n",
    "df_spark = spark.createDataFrame(df.dropna(subset = ['PIN', 'X', 'Y',\"BUILDINGUSE\",\"BLDGVALUE\"]))\n",
    "\n",
    "# Aliasing for cross join\n",
    "df1 = df_spark.selectExpr(\"PIN as PIN1\", \"X as X1\", \"Y as Y1\",\"BUILDINGUSE as B1USE\",\"BLDGVALUE AS BLDGVALUE\")\n",
    "df2 = df_spark.selectExpr(\"PIN as PIN2\", \"X as X2\", \"Y as Y2\")\n",
    "\n",
    "# Filter to avoid self-pairing\n",
    "df_cross = df1.crossJoin(df2).filter(\"PIN1 != PIN2\")\n",
    "\n",
    "# Compute Euclidean distance\n",
    "df_cross = df_cross.withColumn(\n",
    "    \"dist\",\n",
    "F.sqrt((F.col(\"X1\") - F.col(\"X2\"))**2 + (F.col(\"Y1\") - F.col(\"Y2\"))**2)\n",
    ")\n",
    "# Get the nearest neighbor distance per parcel and convert to pandas to cache the result\n",
    "nearest_neighbors = df_cross.\\\n",
    "    groupBy(\"PIN1\", \"B1USE\", \"BLDGVALUE\").agg(\n",
    "    F.min(\"dist\").alias(\"nearest_dist\"),\n",
    "    F.min_by(\"PIN2\", \"dist\").alias(\"nearest_PIN\")\n",
    ").toPandas()\n"
   ]
  },
  {
   "cell_type": "code",
   "execution_count": 0,
   "metadata": {
    "application/vnd.databricks.v1+cell": {
     "cellMetadata": {
      "byteLimit": 2048000,
      "rowLimit": 10000
     },
     "inputWidgets": {},
     "nuid": "751e8619-c797-4eb3-9621-624ffbef8da2",
     "showTitle": false,
     "tableResultSettingsMap": {},
     "title": ""
    }
   },
   "outputs": [],
   "source": [
    "df2=df.dropna(subset = ['PIN', 'X', 'Y',\"BUILDINGUSE\",\"BLDGVALUE\"]).\\\n",
    "    rename(columns={'PIN':'nearest_PIN',\"BUILDINGUSE\":'B2USE'})[['nearest_PIN','B2USE']]"
   ]
  },
  {
   "cell_type": "markdown",
   "metadata": {
    "application/vnd.databricks.v1+cell": {
     "cellMetadata": {
      "byteLimit": 2048000,
      "rowLimit": 10000
     },
     "inputWidgets": {},
     "nuid": "21e272cf-542d-4abd-8408-0b3d9ee12cf3",
     "showTitle": false,
     "tableResultSettingsMap": {},
     "title": ""
    }
   },
   "source": [
    "# And it ran! \uD83E\uDD73\n",
    "#### Not only that- it ran in a reasonable amount of time :D\n",
    "#### Now we can start interrogating this data!"
   ]
  },
  {
   "cell_type": "markdown",
   "metadata": {
    "application/vnd.databricks.v1+cell": {
     "cellMetadata": {
      "byteLimit": 2048000,
      "rowLimit": 10000
     },
     "inputWidgets": {},
     "nuid": "b2c4fa91-5891-4258-bdd4-2a24f2d31991",
     "showTitle": false,
     "tableResultSettingsMap": {},
     "title": ""
    }
   },
   "source": [
    "# \uD83C\uDFE1 Nimby Analysis Time! \uD83C\uDFE2 \n",
    "##### Does being next door to a larger apartment building decrease your home value?"
   ]
  },
  {
   "cell_type": "code",
   "execution_count": 0,
   "metadata": {
    "application/vnd.databricks.v1+cell": {
     "cellMetadata": {
      "byteLimit": 2048000,
      "rowLimit": 10000
     },
     "inputWidgets": {},
     "nuid": "94ac22dc-27ce-4b43-a2cb-33a8b281c56f",
     "showTitle": false,
     "tableResultSettingsMap": {},
     "title": ""
    }
   },
   "outputs": [
    {
     "output_type": "display_data",
     "data": {
      "image/png": "[encoded data removed]",
      "text/plain": [
       "<Figure size 500x300 with 1 Axes>"
      ]
     },
     "metadata": {},
     "output_type": "display_data"
    }
   ],
   "source": [
    "nearest_neighbors.merge(df2,on='nearest_PIN').\\\n",
    "    query('B1USE==\"SINGLE FAMILY HOUSE\"').\\\n",
    "    query('B2USE==\"APARTMENT 6+ UNIT\" | B2USE==\"SINGLE FAMILY HOUSE\"').\\\n",
    "    groupby('B2USE')['BLDGVALUE'].\\\n",
    "    agg(['mean','size']).\\\n",
    "    sort_values('mean',ascending=False)['mean'].\\\n",
    "    plot(kind='bar',\n",
    "         edgecolor='black',\n",
    "         grid=True,color='#4B8BBE',\n",
    "         zorder=2,\n",
    "         alpha=.8,\n",
    "         figsize=(5,3),\n",
    "         fontsize=7,\n",
    "         ylabel='AVG Home Value',\n",
    "         title='AVG Home Values for Single Family Homes\\nBy Nearest Neighbor Type').xaxis.grid(False)"
   ]
  },
  {
   "cell_type": "markdown",
   "metadata": {
    "application/vnd.databricks.v1+cell": {
     "cellMetadata": {
      "byteLimit": 2048000,
      "rowLimit": 10000
     },
     "inputWidgets": {},
     "nuid": "74d848eb-d9db-46d4-985c-27e3f8bc3b2b",
     "showTitle": false,
     "tableResultSettingsMap": {},
     "title": ""
    }
   },
   "source": [
    "###<br> \uD83E\uDD14 Is this enough evidence to convert Nimbies to Yimbies? \uD83C\uDFE1➡️\uD83C\uDFE2\n",
    "### <br>\uD83D\uDD0D What can we do to more conclusively answer this question? \uD83D\uDCCA\n",
    "##### \uD83E\uDD1D Meet us at Twin Cities Data Science & Analytics to explore deeper!\n",
    "##### \uD83D\uDCC5 August 13 | \uD83D\uDD55 6:00–8:00 PM | \uD83D\uDCCD Improving, Minneapolis\n",
    "\n",
    "\n",
    "\n",
    "#<br> Make sure to RSVP!!\uD83D\uDC47\n",
    "# [https://lnkd.in/gGdg25wK]()\n",
    "\n",
    "# \uD83E\uDEE1\n",
    "##### Signing Off, \n",
    "##### Data Dan "
   ]
  }
 ],
 "metadata": {
  "application/vnd.databricks.v1+notebook": {
   "computePreferences": {
    "hardware": {
     "accelerator": null,
     "gpuPoolId": null,
     "memory": "HIGH"
    }
   },
   "dashboards": [],
   "environmentMetadata": {
    "base_environment": "",
    "environment_version": "3"
   },
   "inputWidgetPreferences": null,
   "language": "python",
   "notebookMetadata": {
    "mostRecentlyExecutedCommandWithImplicitDF": {
     "commandId": 7097370753111009,
     "dataframes": [
      "_sqldf"
     ]
    },
    "pythonIndentUnit": 4
   },
   "notebookName": "Parcel Mining",
   "widgets": {}
  },
  "language_info": {
   "name": "python"
  }
 },
 "nbformat": 4,
 "nbformat_minor": 0
}